{
  "nbformat": 4,
  "nbformat_minor": 0,
  "metadata": {
    "colab": {
      "name": "Assignment 1",
      "provenance": [],
      "authorship_tag": "ABX9TyM4QM8vQdj+3XeKvmquW+dV",
      "include_colab_link": true
    },
    "kernelspec": {
      "name": "python3",
      "display_name": "Python 3"
    }
  },
  "cells": [
    {
      "cell_type": "markdown",
      "metadata": {
        "id": "view-in-github",
        "colab_type": "text"
      },
      "source": [
        "<a href=\"https://colab.research.google.com/github/layatannedi262002/D-s-programs/blob/master/Assignment_1.ipynb\" target=\"_parent\"><img src=\"https://colab.research.google.com/assets/colab-badge.svg\" alt=\"Open In Colab\"/></a>"
      ]
    },
    {
      "cell_type": "code",
      "metadata": {
        "id": "fNnEQ0tIwuvX",
        "colab_type": "code",
        "colab": {}
      },
      "source": [
        ""
      ],
      "execution_count": null,
      "outputs": []
    },
    {
      "cell_type": "markdown",
      "metadata": {
        "id": "HNkZR1cpw3TE",
        "colab_type": "text"
      },
      "source": [
        " Write a python program to print the following string in a specific format (see the output). Sample string :\"Twinkle,twinkle,little star,How i wonder what you are! Up above the world so high like a diomond in the sky .Twinkle,twinkle,little star,how i wonder what you are\""
      ]
    },
    {
      "cell_type": "code",
      "metadata": {
        "id": "rpYGVv68xDXQ",
        "colab_type": "code",
        "colab": {
          "base_uri": "https://localhost:8080/",
          "height": 141
        },
        "outputId": "0da9b1a9-e5de-4e5b-cea5-dd4a714056fa"
      },
      "source": [
        " print(\"Twinkle, twinkle, little star, \\n\\tHow I wonder what you are! \\n\\t\\tUp above the world so high, \\n\\t\\tLike a diamond in the sky. \\nTwinkle, twinkle, little star, \\n\\tHow I wonder what you are\")"
      ],
      "execution_count": null,
      "outputs": [
        {
          "output_type": "stream",
          "text": [
            "Twinkle, twinkle, little star, \n",
            "\tHow I wonder what you are! \n",
            "\t\tUp above the world so high, \n",
            "\t\tLike a diamond in the sky. \n",
            "Twinkle, twinkle, little star, \n",
            "\tHow I wonder what you are\n"
          ],
          "name": "stdout"
        }
      ]
    },
    {
      "cell_type": "markdown",
      "metadata": {
        "id": "VK1YOJYxyNcM",
        "colab_type": "text"
      },
      "source": [
        " 2. Write a python program to test whether a number is within 100 of 1000 or 2000."
      ]
    },
    {
      "cell_type": "code",
      "metadata": {
        "id": "CQSHu8WSyRve",
        "colab_type": "code",
        "colab": {
          "base_uri": "https://localhost:8080/",
          "height": 86
        },
        "outputId": "777b8a36-f679-43c4-cdbf-d9b81d0eccb5"
      },
      "source": [
        " \n",
        "def near_thousand(n):\n",
        "      return ((abs(1000 - n) <= 100) or (abs(2000 - n) <= 100))\n",
        "print(near_thousand(1000))\n",
        "print(near_thousand(900))\n",
        "print(near_thousand(300))   \n",
        "print(near_thousand(2300))"
      ],
      "execution_count": null,
      "outputs": [
        {
          "output_type": "stream",
          "text": [
            "True\n",
            "True\n",
            "False\n",
            "False\n"
          ],
          "name": "stdout"
        }
      ]
    },
    {
      "cell_type": "markdown",
      "metadata": {
        "id": "EKHHsKBgyW67",
        "colab_type": "text"
      },
      "source": [
        " 3. Write a python program to calculate the sum of three given numbers,if the values are equal then return three of their sum."
      ]
    },
    {
      "cell_type": "code",
      "metadata": {
        "id": "GsmNVHDhyaf0",
        "colab_type": "code",
        "colab": {
          "base_uri": "https://localhost:8080/",
          "height": 51
        },
        "outputId": "2d236153-3ed0-428a-8bdd-2767604857f4"
      },
      "source": [
        " \n",
        "def sum_thrice(x, y, z):\n",
        "     sum = x + y + z\n",
        "     if x == y == z:\n",
        "      sum = sum * 3\n",
        "     return sum\n",
        "print(sum_thrice(1, 2, 3))\n",
        "print(sum_thrice(1, 6, 2))"
      ],
      "execution_count": null,
      "outputs": [
        {
          "output_type": "stream",
          "text": [
            "6\n",
            "9\n"
          ],
          "name": "stdout"
        }
      ]
    },
    {
      "cell_type": "markdown",
      "metadata": {
        "id": "3c3iopkdye-Q",
        "colab_type": "text"
      },
      "source": [
        " 4. Write a python program to find whatever a given number(accept from the user) is even or odd , print out an appropriate message to the user."
      ]
    },
    {
      "cell_type": "code",
      "metadata": {
        "id": "jhol_w4hyk-C",
        "colab_type": "code",
        "colab": {
          "base_uri": "https://localhost:8080/",
          "height": 51
        },
        "outputId": "d850ea47-f800-4124-daff-8d856947415b"
      },
      "source": [
        " \n",
        "num = int(input(\"Enter a number: \"))\n",
        "mod = num % 2\n",
        "if mod > 0:\n",
        "    print(\"The given number is odd number.\")\n",
        "else:\n",
        "    print(\"the given number is even number.\")"
      ],
      "execution_count": null,
      "outputs": [
        {
          "output_type": "stream",
          "text": [
            "Enter a number: 1\n",
            "The given number is odd number.\n"
          ],
          "name": "stdout"
        }
      ]
    },
    {
      "cell_type": "markdown",
      "metadata": {
        "id": "SoJQ3Irqyv8Y",
        "colab_type": "text"
      },
      "source": [
        "5. Write a python program to get a string made of the first 2 and the last 2 chars from a given string .if the string length is less than 2,return instead of the empty string."
      ]
    },
    {
      "cell_type": "code",
      "metadata": {
        "id": "D_Fa-3ARy0Ty",
        "colab_type": "code",
        "colab": {
          "base_uri": "https://localhost:8080/",
          "height": 86
        },
        "outputId": "817e60d0-fc45-4062-e8c7-dadeb528be56"
      },
      "source": [
        " \n",
        "def string_both_ends(str):\n",
        "  if len(str) < 2:\n",
        "    return ''\n",
        "  return str[0:2] + str[-2:]\n",
        "print(string_both_ends('laya'))\n",
        "print(string_both_ends('lay'))\n",
        "print(string_both_ends('la'))\n",
        "print(string_both_ends('L'))"
      ],
      "execution_count": null,
      "outputs": [
        {
          "output_type": "stream",
          "text": [
            "laya\n",
            "laay\n",
            "lala\n",
            "\n"
          ],
          "name": "stdout"
        }
      ]
    },
    {
      "cell_type": "markdown",
      "metadata": {
        "id": "tUG1pokszEyb",
        "colab_type": "text"
      },
      "source": [
        " 6. Write a python program to get a single string from two given strings ,seperated by a space and swap the first two characters of each strings."
      ]
    },
    {
      "cell_type": "code",
      "metadata": {
        "id": "SiVIxaa8zLU3",
        "colab_type": "code",
        "colab": {
          "base_uri": "https://localhost:8080/",
          "height": 34
        },
        "outputId": "7b9b2f67-78de-46df-99e6-deefc282dc31"
      },
      "source": [
        " \n",
        "def chars_mix_up(a, b):\n",
        "  new_a = b[:2] + a[2:]\n",
        "  new_b = a[:2] + b[2:]\n",
        " \n",
        "  return new_a + ' ' + new_b\n",
        "print(chars_mix_up('mom', 'dad'))"
      ],
      "execution_count": null,
      "outputs": [
        {
          "output_type": "stream",
          "text": [
            "dam mod\n"
          ],
          "name": "stdout"
        }
      ]
    },
    {
      "cell_type": "markdown",
      "metadata": {
        "id": "EdfXjVmDzVib",
        "colab_type": "text"
      },
      "source": [
        " 7. Write a python program to find apperance of the substring 'not' and 'poor' from a given string ,if 'not' follows the 'poor',replace the whole 'not'...'poor' substring with 'good'."
      ]
    },
    {
      "cell_type": "code",
      "metadata": {
        "id": "VpdhEx02zYLw",
        "colab_type": "code",
        "colab": {
          "base_uri": "https://localhost:8080/",
          "height": 51
        },
        "outputId": "a7046009-b5b6-4db9-d3c5-5d9c05ad1d50"
      },
      "source": [
        " \n",
        "def not_poor(str1):\n",
        "  snot = str1.find('not')\n",
        "  spoor = str1.find('poor')\n",
        "  if spoor > snot and snot>0 and spoor>0:\n",
        "    str1 = str1.replace(str1[snot:(spoor+4)], 'good')\n",
        "    return str1\n",
        "  else:\n",
        "    return str1\n",
        "print(not_poor('The lyrics is not that poor!'))\n",
        "print(not_poor('The lyrics is poor!'))"
      ],
      "execution_count": null,
      "outputs": [
        {
          "output_type": "stream",
          "text": [
            "The lyrics is good!\n",
            "The lyrics is poor!\n"
          ],
          "name": "stdout"
        }
      ]
    },
    {
      "cell_type": "markdown",
      "metadata": {
        "id": "HEg4PeKSzdKj",
        "colab_type": "text"
      },
      "source": [
        " 9. Write a python function to convert all units of time into seconds."
      ]
    },
    {
      "cell_type": "code",
      "metadata": {
        "id": "ZCyf7sViziCK",
        "colab_type": "code",
        "colab": {
          "base_uri": "https://localhost:8080/",
          "height": 103
        },
        "outputId": "c891e953-11f0-4c98-cbf6-474f658b9f2f"
      },
      "source": [
        " \n",
        "days = int(input(\"Input days: \")) * 3600 * 24\n",
        "hours = int(input(\"Input hours: \")) * 3600\n",
        "minutes = int(input(\"Input minutes: \")) * 60\n",
        "seconds = int(input(\"Input seconds: \"))\n",
        "time = days + hours + minutes + seconds\n",
        "print(\"The total seconds is: \", time)"
      ],
      "execution_count": null,
      "outputs": [
        {
          "output_type": "stream",
          "text": [
            "Input days: 365\n",
            "Input hours: 24\n",
            "Input minutes: 60\n",
            "Input seconds: 60\n",
            "The total seconds is:  31626060\n"
          ],
          "name": "stdout"
        }
      ]
    },
    {
      "cell_type": "markdown",
      "metadata": {
        "id": "bKSM7j7GzuJ5",
        "colab_type": "text"
      },
      "source": [
        "10. Write a python program to sort three integers without using conditional statements and loops."
      ]
    },
    {
      "cell_type": "code",
      "metadata": {
        "id": "_qfCbAYVzypy",
        "colab_type": "code",
        "colab": {
          "base_uri": "https://localhost:8080/",
          "height": 86
        },
        "outputId": "1f09da22-2cdb-4347-b2b1-cd18a17c2fcb"
      },
      "source": [
        " \n",
        "x = int(input(\"Input first number: \"))\n",
        "y = int(input(\"Input second number: \"))\n",
        "z = int(input(\"Input third number: \"))\n",
        "a1 = min(x, y, z)\n",
        "a3 = max(x, y, z)\n",
        "a2 = (x + y + z) - a1 - a3\n",
        "print(\"Numbers in sorted order: \", a1, a2, a3)"
      ],
      "execution_count": null,
      "outputs": [
        {
          "output_type": "stream",
          "text": [
            "Input first number: 1\n",
            "Input second number: 6\n",
            "Input third number: 8\n",
            "Numbers in sorted order:  1 6 8\n"
          ],
          "name": "stdout"
        }
      ]
    },
    {
      "cell_type": "markdown",
      "metadata": {
        "id": "zzIs3IHCz6eD",
        "colab_type": "text"
      },
      "source": [
        "11. Write a python program to get the details of the math module."
      ]
    },
    {
      "cell_type": "code",
      "metadata": {
        "id": "WVhTW8jr0Dgo",
        "colab_type": "code",
        "colab": {
          "base_uri": "https://localhost:8080/",
          "height": 54
        },
        "outputId": "a5a71b31-46c9-412a-9ad9-7874946d1823"
      },
      "source": [
        " \n",
        "import math           \n",
        "math_ls = dir(math) \n",
        "print(math_ls)"
      ],
      "execution_count": null,
      "outputs": [
        {
          "output_type": "stream",
          "text": [
            "['__doc__', '__loader__', '__name__', '__package__', '__spec__', 'acos', 'acosh', 'asin', 'asinh', 'atan', 'atan2', 'atanh', 'ceil', 'copysign', 'cos', 'cosh', 'degrees', 'e', 'erf', 'erfc', 'exp', 'expm1', 'fabs', 'factorial', 'floor', 'fmod', 'frexp', 'fsum', 'gamma', 'gcd', 'hypot', 'inf', 'isclose', 'isfinite', 'isinf', 'isnan', 'ldexp', 'lgamma', 'log', 'log10', 'log1p', 'log2', 'modf', 'nan', 'pi', 'pow', 'radians', 'sin', 'sinh', 'sqrt', 'tan', 'tanh', 'tau', 'trunc']\n"
          ],
          "name": "stdout"
        }
      ]
    },
    {
      "cell_type": "markdown",
      "metadata": {
        "id": "KfqsB1yu0Hkm",
        "colab_type": "text"
      },
      "source": [
        " 12. Write a python program to concatenate N strings."
      ]
    },
    {
      "cell_type": "code",
      "metadata": {
        "id": "JS4PVjGc0KTA",
        "colab_type": "code",
        "colab": {
          "base_uri": "https://localhost:8080/",
          "height": 89
        },
        "outputId": "ea89c95c-6fdd-4cd4-aedd-2f6d00a0e421"
      },
      "source": [
        " \n",
        "list_of_colors = ['violet', 'indigo', 'blue']  \n",
        "colors = '-'.join(list_of_colors)\n",
        "print()\n",
        "print(\"All Colors: \"+colors)\n",
        "print()"
      ],
      "execution_count": null,
      "outputs": [
        {
          "output_type": "stream",
          "text": [
            "\n",
            "All Colors: violet-indigo-blue\n",
            "\n"
          ],
          "name": "stdout"
        }
      ]
    }
  ]
}