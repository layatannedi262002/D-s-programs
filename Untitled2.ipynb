{
  "nbformat": 4,
  "nbformat_minor": 0,
  "metadata": {
    "colab": {
      "name": "Untitled2.ipynb",
      "provenance": [],
      "authorship_tag": "ABX9TyMoUaAEsrmH9DBDrumwAjJc",
      "include_colab_link": true
    },
    "kernelspec": {
      "name": "python3",
      "display_name": "Python 3"
    }
  },
  "cells": [
    {
      "cell_type": "markdown",
      "metadata": {
        "id": "view-in-github",
        "colab_type": "text"
      },
      "source": [
        "<a href=\"https://colab.research.google.com/github/layatannedi262002/D-s-programs/blob/master/Untitled2.ipynb\" target=\"_parent\"><img src=\"https://colab.research.google.com/assets/colab-badge.svg\" alt=\"Open In Colab\"/></a>"
      ]
    },
    {
      "cell_type": "markdown",
      "metadata": {
        "id": "lAPXVHCws52P"
      },
      "source": [
        "   1.A.Find minimum among three numbers."
      ]
    },
    {
      "cell_type": "code",
      "metadata": {
        "colab": {
          "base_uri": "https://localhost:8080/"
        },
        "id": "08dUJFw9s8Lu",
        "outputId": "d9a5f23a-9678-4c80-e74b-c032568c8941"
      },
      "source": [
        " \n",
        " \n",
        " \n",
        "a=10\n",
        "b=6\n",
        "c=4\n",
        "if(a <= b and a <= c): \n",
        " \n",
        "    print(a, \"is the smallest\") \n",
        " \n",
        "elif(b <= a and b <= c): \n",
        " \n",
        "    print(b, \"is the smallest\") \n",
        " \n",
        "else: \n",
        " \n",
        "    print(c, \"is the smallest\")"
      ],
      "execution_count": null,
      "outputs": [
        {
          "output_type": "stream",
          "text": [
            "4 is the smallest\n"
          ],
          "name": "stdout"
        }
      ]
    },
    {
      "cell_type": "markdown",
      "metadata": {
        "id": "KSDFPsBPtM2m"
      },
      "source": [
        "  1.Bfind the GCD and LCM of two or three numbers"
      ]
    },
    {
      "cell_type": "code",
      "metadata": {
        "colab": {
          "base_uri": "https://localhost:8080/"
        },
        "id": "1x7C1wjItNyd",
        "outputId": "83a8570f-7d69-4e05-c237-dac872a82668"
      },
      "source": [
        " \n",
        " \n",
        " \n",
        "a=int(input(\"Enter the first number \"))\n",
        "b=int(input(\"Enter the second number \"))\n",
        "i=1\n",
        "while (i <= a and i <= b):\n",
        "  if(a%i == 0 and b%i == 0):\n",
        "    gcd = i\n",
        "  i = i + 1\n",
        "lcm = (a*b)/gcd\n",
        "print(\"GCD of the given numbers is \", gcd)\n",
        "print(\"LCM of the given numbers is \",lcm)"
      ],
      "execution_count": null,
      "outputs": [
        {
          "output_type": "stream",
          "text": [
            "Enter the first number 10\n",
            "Enter the second number 20\n",
            "GCD of the given numbers is  10\n",
            "LCM of the given numbers is  20.0\n"
          ],
          "name": "stdout"
        }
      ]
    },
    {
      "cell_type": "markdown",
      "metadata": {
        "id": "q-D1bujJtSrG"
      },
      "source": [
        "  1.C.Check Wheather the given number is perfect."
      ]
    },
    {
      "cell_type": "code",
      "metadata": {
        "colab": {
          "base_uri": "https://localhost:8080/"
        },
        "id": "B3kM7qgdtbWQ",
        "outputId": "965d5a34-c297-4b9d-dbc0-00780615e103"
      },
      "source": [
        " n = int(input(\"Enter any number: \"))\n",
        "sum1 = 0\n",
        "for i in range(1, n):\n",
        "    if(n % i == 0):\n",
        "        sum1 = sum1 + i\n",
        "if (sum1 == n):\n",
        "    print(\"The number is a Perfect number!\")\n",
        "else:\n",
        "    print(\"The number is not a Perfect number!\")"
      ],
      "execution_count": null,
      "outputs": [
        {
          "output_type": "stream",
          "text": [
            "Enter any number: 3\n",
            "The number is not a Perfect number!\n"
          ],
          "name": "stdout"
        }
      ]
    },
    {
      "cell_type": "markdown",
      "metadata": {
        "id": "8ZTK7ePGtgt7"
      },
      "source": [
        "  1.D.print twin primes upto a specified limit."
      ]
    },
    {
      "cell_type": "code",
      "metadata": {
        "colab": {
          "base_uri": "https://localhost:8080/"
        },
        "id": "TPjsg29-tjuN",
        "outputId": "0e4fb402-b7aa-4b13-991a-dfcbdee2dbf3"
      },
      "source": [
        " \n",
        " \n",
        " \n",
        "def prime(n):\n",
        "    for i in range(2, n):\n",
        "        if n % i == 0:\n",
        "            return False\n",
        "    return True\n",
        " \n",
        "def twin_prime(start, end):\n",
        "    for i in range(start, end):\n",
        "        j= i + 2\n",
        "        if (prime(i) and prime(j)):\n",
        "            print (\"{:d} and {:d}\".format(i, j))\n",
        " \n",
        "twin_prime(2, 250)"
      ],
      "execution_count": null,
      "outputs": [
        {
          "output_type": "stream",
          "text": [
            "3 and 5\n",
            "5 and 7\n",
            "11 and 13\n",
            "17 and 19\n",
            "29 and 31\n",
            "41 and 43\n",
            "59 and 61\n",
            "71 and 73\n",
            "101 and 103\n",
            "107 and 109\n",
            "137 and 139\n",
            "149 and 151\n",
            "179 and 181\n",
            "191 and 193\n",
            "197 and 199\n",
            "227 and 229\n",
            "239 and 241\n"
          ],
          "name": "stdout"
        }
      ]
    },
    {
      "cell_type": "markdown",
      "metadata": {
        "id": "vy5aMyQHtn0K"
      },
      "source": [
        "  1.E.print the prime number upto a specified limit."
      ]
    },
    {
      "cell_type": "code",
      "metadata": {
        "colab": {
          "base_uri": "https://localhost:8080/"
        },
        "id": "ZiGmEOjVtqxn",
        "outputId": "0b4e8764-da33-43ef-a11f-16786a950765"
      },
      "source": [
        " \n",
        " \n",
        "n1 = int(input(\"Enter the first number \"))\n",
        "n2 = int(input(\"Enter the last number \"))\n",
        " \n",
        "for n in range(n1, n2+1):  \n",
        "    if n > 1:\n",
        "        for i in range(2,n):\n",
        "            if (n % i == 0):\n",
        "                break  \n",
        "        else:  \n",
        "            print(n)"
      ],
      "execution_count": null,
      "outputs": [
        {
          "output_type": "stream",
          "text": [
            "Enter the first number 4\n",
            "Enter the last number 6\n",
            "5\n"
          ],
          "name": "stdout"
        }
      ]
    },
    {
      "cell_type": "markdown",
      "metadata": {
        "id": "rwFfJBz_twpL"
      },
      "source": [
        "  1.F.find the sum of the digits of a number.check wheather the given number is Armstrong or not."
      ]
    },
    {
      "cell_type": "code",
      "metadata": {
        "colab": {
          "base_uri": "https://localhost:8080/"
        },
        "id": "9ZQbptDAtzb7",
        "outputId": "19b95247-15ac-4c03-b647-949130c76421"
      },
      "source": [
        " \n",
        " \n",
        " \n",
        " \n",
        "import math \n",
        "n1 = int(input(\"Enter your first number \"))\n",
        "n2 = int(input(\"Enter your second number \"))\n",
        "print(\"The armstrong numbers form the interval are \")\n",
        "if n1 < n2:\n",
        "    for i in range(n1,n2+1):\n",
        "        sum = 0\n",
        "        temp = i\n",
        "        \n",
        "        while temp != 0:\n",
        "            last = temp%10\n",
        "            sum = sum + math.pow(last,3)\n",
        "            temp = temp//10\n",
        "        if sum==i:\n",
        "            print(i)"
      ],
      "execution_count": null,
      "outputs": [
        {
          "output_type": "stream",
          "text": [
            "Enter your first number 6\n",
            "Enter your second number 5\n",
            "The armstrong numbers form the interval are \n"
          ],
          "name": "stdout"
        }
      ]
    },
    {
      "cell_type": "markdown",
      "metadata": {
        "id": "CrZxmRnot44H"
      },
      "source": [
        "  1.G.swap of two numbers."
      ]
    },
    {
      "cell_type": "code",
      "metadata": {
        "colab": {
          "base_uri": "https://localhost:8080/"
        },
        "id": "EmtNC2yPt8AB",
        "outputId": "f16e306c-2f6d-42d9-dd15-15e0efb36162"
      },
      "source": [
        " \n",
        " \n",
        "a=int(input(\"enter number:\"))\n",
        "b=int(input(\"enter number:\"))\n",
        "print(\"before swap the values of a and b are:\",a,b)\n",
        "a,b=b,a\n",
        "print(\"after swap the values of a and b are:\",a,b)"
      ],
      "execution_count": null,
      "outputs": [
        {
          "output_type": "stream",
          "text": [
            "enter number:8\n",
            "enter number:18\n",
            "before swap the values of a and b are: 8 18\n",
            "after swap the values of a and b are: 18 8\n"
          ],
          "name": "stdout"
        }
      ]
    },
    {
      "cell_type": "markdown",
      "metadata": {
        "id": "Q--nNDFpuD9Y"
      },
      "source": [
        " 1.H.perform all the arithmetic operations."
      ]
    },
    {
      "cell_type": "code",
      "metadata": {
        "colab": {
          "base_uri": "https://localhost:8080/"
        },
        "id": "B_FyVyr-uEkM",
        "outputId": "a0256693-8225-4370-ce61-b0773c4ac338"
      },
      "source": [
        " \n",
        " a= 50\n",
        "b = 20\n",
        "c = 10\n",
        " \n",
        "c = a + b\n",
        "print (\"Addition - Value of c is \", c)\n",
        " \n",
        "c = a - b\n",
        "print (\"Subtraction - Value of c is \", c)\n",
        " \n",
        "c = a * b\n",
        "print (\"Multiplication - Value of c is \", c)\n",
        " \n",
        "c = a / b\n",
        "print (\"Division - Value of c is \", c)\n",
        " \n",
        "c = a % b\n",
        "print (\"Modulus - Value of c is \", c)"
      ],
      "execution_count": null,
      "outputs": [
        {
          "output_type": "stream",
          "text": [
            "Addition - Value of c is  70\n",
            "Subtraction - Value of c is  30\n",
            "Multiplication - Value of c is  1000\n",
            "Division - Value of c is  2.5\n",
            "Modulus - Value of c is  10\n"
          ],
          "name": "stdout"
        }
      ]
    },
    {
      "cell_type": "markdown",
      "metadata": {
        "id": "pZvYypT-uHbB"
      },
      "source": [
        "  2.B.copy the contents from one array to another array in reverse order."
      ]
    },
    {
      "cell_type": "code",
      "metadata": {
        "colab": {
          "base_uri": "https://localhost:8080/"
        },
        "id": "m1znMDcNuKpl",
        "outputId": "f440b7e5-daea-45b2-de00-8bd9089cc64f"
      },
      "source": [
        " \n",
        " \n",
        "import array as arr\n",
        "source = arr.array('i', [10, 20, 30, 40])\n",
        "dest = arr.array('i', [])\n",
        " \n",
        "for index in range(0, len(source)):\n",
        "    dest.insert(index, source[index])\n",
        "    \n",
        "for i in dest:\n",
        "    print(i, end=\" \")\n",
        "print(type(dest))\n",
        "print(\"The reverse of the array: \")\n",
        "for i in range(len(source)-1, -1, -1):\n",
        "    dest.insert(index, source[index])\n",
        "    print(dest[i], end=\" \")"
      ],
      "execution_count": null,
      "outputs": [
        {
          "output_type": "stream",
          "text": [
            "10 20 30 40 <class 'array.array'>\n",
            "The reverse of the array: \n",
            "40 30 20 10 "
          ],
          "name": "stdout"
        }
      ]
    },
    {
      "cell_type": "markdown",
      "metadata": {
        "id": "M3KljkcmuODI"
      },
      "source": [
        "  2.C.delete the duplicates elements from an array."
      ]
    },
    {
      "cell_type": "code",
      "metadata": {
        "colab": {
          "base_uri": "https://localhost:8080/"
        },
        "id": "OkOMztDpuRh1",
        "outputId": "19e2d4f4-c8b3-40bd-a3d8-eb4b7c135286"
      },
      "source": [
        " \n",
        "import array as arr\n",
        "def delete_duplicate(array1):\n",
        "    array2 = arr.array(\"i\", [])\n",
        "    for num in array1: \n",
        "        if num not in array2: \n",
        "            array2.append(num) \n",
        "    print(\"\\nArray after deleting the duplicate elements is:\")\n",
        "    for i in array2:\n",
        "        print(i, end = \", \")\n",
        " \n",
        "delete_duplicate(arr.array('i', [1,2,4,5,2,3,7,3,8,2,9]))"
      ],
      "execution_count": null,
      "outputs": [
        {
          "output_type": "stream",
          "text": [
            "\n",
            "Array after deleting the duplicate elements is:\n",
            "1, 2, 4, 5, 3, 7, 8, 9, "
          ],
          "name": "stdout"
        }
      ]
    },
    {
      "cell_type": "markdown",
      "metadata": {
        "id": "Hf4yr1R5uUYO"
      },
      "source": [
        "  3.A.representing spare matrix."
      ]
    },
    {
      "cell_type": "code",
      "metadata": {
        "colab": {
          "base_uri": "https://localhost:8080/"
        },
        "id": "h_IZX19-uWxJ",
        "outputId": "b9434634-045c-46fa-8693-0c33aa2d7d4d"
      },
      "source": [
        " \n",
        " \n",
        "import numpy as np \n",
        "from scipy.sparse import csr_matrix \n",
        "  \n",
        "# Creating a 3 * 4 sparse matrix \n",
        "sparseMatrix = csr_matrix((3, 4),  \n",
        "                          dtype = np.int8).toarray() \n",
        "  \n",
        "# Print the sparse matrix \n",
        "print(sparseMatrix)"
      ],
      "execution_count": null,
      "outputs": [
        {
          "output_type": "stream",
          "text": [
            "[[0 0 0 0]\n",
            " [0 0 0 0]\n",
            " [0 0 0 0]]\n"
          ],
          "name": "stdout"
        }
      ]
    },
    {
      "cell_type": "markdown",
      "metadata": {
        "id": "jx4gaixUuZm0"
      },
      "source": [
        "  3.B.spare matrix addition."
      ]
    },
    {
      "cell_type": "code",
      "metadata": {
        "colab": {
          "base_uri": "https://localhost:8080/"
        },
        "id": "j9Yl0bumubyB",
        "outputId": "eebf290f-a42a-41cc-d511-c19d12067030"
      },
      "source": [
        " \n",
        " \n",
        "m1=[[1,0,3],\n",
        "     [0,5,6],\n",
        "     [7,0,0]]\n",
        "m2=[[0,5,1],\n",
        "    [0,0,8],\n",
        "    [0,2,6]]     \n",
        "result=[[0,0,0],\n",
        "    [0,0,0],\n",
        "    [0,0,0]] \n",
        "for i in range(len(m1)):\n",
        "  for j in range(len(m2)):\n",
        "    for k in range(len(m2)):\n",
        "      result[i][j] = m1[i][j]+m2[i][j]\n",
        "print(\"The resultant matrix \")\n",
        "for r in result:\n",
        "  print(r)"
      ],
      "execution_count": null,
      "outputs": [
        {
          "output_type": "stream",
          "text": [
            "The resultant matrix \n",
            "[1, 5, 4]\n",
            "[0, 5, 14]\n",
            "[7, 2, 6]\n"
          ],
          "name": "stdout"
        }
      ]
    },
    {
      "cell_type": "markdown",
      "metadata": {
        "id": "UzkYnp1DugiP"
      },
      "source": [
        " 3.C.spare matrix transpose."
      ]
    },
    {
      "cell_type": "code",
      "metadata": {
        "colab": {
          "base_uri": "https://localhost:8080/"
        },
        "id": "l7IyN8youi1l",
        "outputId": "1bcc6026-6022-4f13-a242-bce750bf74ac"
      },
      "source": [
        " \n",
        "N=4\n",
        "def transpose(A,B): \n",
        "  \n",
        "    for i in range(N): \n",
        "        for j in range(N): \n",
        "            B[i][j] = A[j][i] \n",
        " \n",
        "A = [ [1, 1, 1, 1], \n",
        "    [2, 2, 2, 2], \n",
        "    [3, 3, 3, 3], \n",
        "    [4, 4, 4, 4]] \n",
        "   \n",
        "   \n",
        "B = A[:][:] \n",
        "  \n",
        "transpose(A, B) \n",
        "   \n",
        "print(\"Result matrix is\") \n",
        "for i in range(N): \n",
        "    for j in range(N): \n",
        "        print(B[i][j], \" \", end='') \n",
        "    print()"
      ],
      "execution_count": null,
      "outputs": [
        {
          "output_type": "stream",
          "text": [
            "Result matrix is\n",
            "1  2  3  4  \n",
            "2  2  3  4  \n",
            "3  3  3  4  \n",
            "4  4  4  4  \n"
          ],
          "name": "stdout"
        }
      ]
    },
    {
      "cell_type": "markdown",
      "metadata": {
        "id": "8UECfkBYul1G"
      },
      "source": [
        "  4.write a program to perform linear search and binary search on a list sorted in an array."
      ]
    },
    {
      "cell_type": "code",
      "metadata": {
        "id": "SxbBOxSFuonx"
      },
      "source": [
        "#Linear search\n",
        "def linear(alist,key):\n",
        "  for i in range(len(alist)):\n",
        "    if alist[i]==key :\n",
        "      return i \n",
        "  return -1\n",
        " \n",
        " \n",
        "alist = input('Enter the list of numbers :')\n",
        "alist = alist.split()\n",
        "alist =[int(x) for x in alist]\n",
        "key = int(input('The number to search for :'))\n",
        " \n",
        "index = linear(alist,key)\n",
        "if index<0 :\n",
        "   print('{} was not found '.format(key))\n",
        "else:\n",
        "  print('{} was found at index {}.'.format(key,index))"
      ],
      "execution_count": null,
      "outputs": []
    },
    {
      "cell_type": "code",
      "metadata": {
        "id": "-MuvWTOTuwwm"
      },
      "source": [
        " \n",
        " \n",
        "#binary search\n",
        "def binary(alist,key):\n",
        " \n",
        "  start = 0\n",
        "  end=len(alist)\n",
        "  while start<end :\n",
        "     mid = (start+end)//2\n",
        "     if alist[mid]>key :\n",
        "        end = mid\n",
        "     elif alist[mid]<key :\n",
        "        start=mid+1\n",
        "     else:\n",
        "        return mid \n",
        "  return -1\n",
        " \n",
        "alist = input('Enter the sorted list of numbers:')\n",
        "alist = alist.split()\n",
        "alist = [int(x) for x in alist]\n",
        "key = int(input('The number to search for :'))\n",
        "index = binary(alist,key)\n",
        "if index <0:\n",
        "   print('{}was not found.'.format(key))\n",
        "else :\n",
        "   print('{} was found at index {}.'.format(key,index))"
      ],
      "execution_count": null,
      "outputs": []
    },
    {
      "cell_type": "markdown",
      "metadata": {
        "id": "9eLyb2HYuyIc"
      },
      "source": [
        " 5.write a program to create a singly linked list for the following operations."
      ]
    },
    {
      "cell_type": "code",
      "metadata": {
        "id": "b-16_GSXu00R"
      },
      "source": [
        " \n",
        " \n",
        "class node:\n",
        "    def _init_(self,dval,nval):\n",
        "        self.dval=dval\n",
        "        self.nval=nval\n",
        "class slist:\n",
        "    def _init_(self):\n",
        "        self.head=None\n",
        "        self.tail=None\n",
        "        self.size=0\n",
        "    def len(self):\n",
        "        return self.size\n",
        "    def isempty(self):\n",
        "        return self.size==0\n",
        "    def addlast(self,e):\n",
        "        new=node(e,None)\n",
        "        if self.isempty():\n",
        "            self.head=new\n",
        "        else:\n",
        "            self.tail.nval=new\n",
        "        self.tail=new\n",
        "        self.size+=1\n",
        "    def display(self):\n",
        "        p=self.head\n",
        "        while p:\n",
        "            print(p.dval,end='--')\n",
        "            p=p.nval\n",
        "        print(' ')\n",
        "    def removefirst(self):\n",
        "        if self.isempty():\n",
        "            print('empty list')\n",
        "            return\n",
        "        print('element deleted form the list is',self.head.dval)\n",
        "        self.head=self.head.nval\n",
        "        self.size-=1\n",
        "        if self.isempty():\n",
        "            self.tail=None\n",
        "            return\n",
        "    def removelast(self):\n",
        "        if self.isempty():\n",
        "            print('empty list')\n",
        "            return\n",
        "        temp=self.head\n",
        "        i=1\n",
        "        while i<self.len()-1:\n",
        "            temp=temp.nval\n",
        "            i+=1\n",
        "        self.tail=temp\n",
        "        temp=temp.nval\n",
        "        x=temp.nval\n",
        "        self.tail.nval=None\n",
        "        self.size-=1\n",
        "        return x\n",
        "    def count(self):\n",
        "        i=0\n",
        "        p=self.head\n",
        "        while p:\n",
        "            p=p.nval\n",
        "            i+=1\n",
        "            return i\n",
        "    def search(self,el):\n",
        "        p=self.head\n",
        "        i=0\n",
        "        while (i<(self.len())):\n",
        "            print(p.dval)\n",
        "            if p.dval==el:\n",
        "                print('element is found')\n",
        "                return\n",
        "            p=p.nval\n",
        "            i+=1\n",
        "        print('element is not found')"
      ],
      "execution_count": null,
      "outputs": []
    },
    {
      "cell_type": "markdown",
      "metadata": {
        "id": "lLUPPDUNu3fn"
      },
      "source": [
        "  6.write a program to create a doubly linked list for the following operations."
      ]
    },
    {
      "cell_type": "code",
      "metadata": {
        "id": "fFzEVjbQu6q7"
      },
      "source": [
        " \n",
        " \n",
        "class Node:\n",
        "    def init(self,preval,dataval,nextval):\n",
        "        self.dataval=dataval\n",
        "        self.nextval=nextval\n",
        "        self.preval=preval\n",
        "class dlist:\n",
        "    def init(self):\n",
        "        self.head=None\n",
        "        self.tail=None\n",
        "        self.size=0\n",
        "    def len(self):\n",
        "        return self.size\n",
        "    def isempty(self):\n",
        "        return self.size==0\n",
        "    def addlast(self,ele):\n",
        "        new=Node(None,ele,None)\n",
        "        if self.isempty():\n",
        "            self.head=new\n",
        "            self.tail=new\n",
        "        else:\n",
        "            self.tail.nextval=new\n",
        "            new.preval=self.tail\n",
        "            self.tail=new\n",
        "        self.size+=1\n",
        "    def display(self):\n",
        "        temp=self.head\n",
        "        while (temp):\n",
        "            print(temp.dataval,end='--')\n",
        "            temp=temp.nextval\n",
        "    def removelast(self):\n",
        "        if self.isempty():\n",
        "            print('empty list')\n",
        "            return\n",
        "        print('deleted element is :',self.tail.dataval)\n",
        "        self.tail.preval.nextval=None\n",
        "        self.tail=self.tail.preval\n",
        "        self.size-=1\n",
        "    def removefirst(self):\n",
        "        if self.isempty():\n",
        "            print('empty list')\n",
        "            return\n",
        "        else:\n",
        "            print('deleted element is :',self.head.dataval)\n",
        "            self.head.nextval=self.head\n",
        "            self.head.preval=None\n",
        "            self.size-=1\n",
        "            return\n",
        "    def search(self,ele):\n",
        "        temp=self.head\n",
        "        i=0\n",
        "        while(temp):\n",
        "            print('yes')\n",
        "            if temp.dataval==ele:\n",
        "                print('element found')\n",
        "                return\n",
        "            i+=1\n",
        "            temp=temp.nextval"
      ],
      "execution_count": null,
      "outputs": []
    },
    {
      "cell_type": "markdown",
      "metadata": {
        "id": "x6Ks2xIbu9Uq"
      },
      "source": [
        "  7.write a program to create a circula singly linked list for adding and deleting node."
      ]
    },
    {
      "cell_type": "code",
      "metadata": {
        "id": "cvz0Ua2Tu_3C"
      },
      "source": [
        " \n",
        " \n",
        "class Node:\n",
        "    def init(self,preval,dataval,nextval):\n",
        "        self.dataval=dataval\n",
        "        self.nextval=nextval\n",
        "        self.preval=preval\n",
        "class dlist:\n",
        "    def init(self):\n",
        "        self.head=None\n",
        "        self.tail=None\n",
        "        self.size=0\n",
        "    def len(self):\n",
        "        return self.size\n",
        "    def isempty(self):\n",
        "        return self.size==0\n",
        "    def addlast(self,ele):\n",
        "        new=Node(None,ele,None)\n",
        "        if self.isempty():\n",
        "            self.head=new\n",
        "            self.tail=new\n",
        "        else:\n",
        "            self.tail.nextval=new\n",
        "            new.preval=self.tail\n",
        "            self.tail=new\n",
        "        self.size+=1\n",
        "    def display(self):\n",
        "        temp=self.head\n",
        "        while (temp):\n",
        "            print(temp.dataval,end='--')\n",
        "            temp=temp.nextval\n",
        "    def removelast(self):\n",
        "        if self.isempty():\n",
        "            print('empty list')\n",
        "            return\n",
        "        print('deleted element is :',self.tail.dataval)\n",
        "        self.tail.preval.nextval=None\n",
        "        self.tail=self.tail.preval\n",
        "        self.size-=1\n",
        "    def removefirst(self):\n",
        "        if self.isempty():\n",
        "            print('empty list')\n",
        "            return\n",
        "        else:\n",
        "            print('deleted element is :',self.head.dataval)\n",
        "            self.head.nextval=self.head\n",
        "            self.head.preval=None\n",
        "            self.size-=1\n",
        "            return\n",
        "    def search(self,ele):\n",
        "        temp=self.head\n",
        "        i=0\n",
        "        while(temp):\n",
        "            print('yes')\n",
        "            if temp.dataval==ele:\n",
        "                print('element found')\n",
        "                return\n",
        "            i+=1\n",
        "            temp=temp.nextval"
      ],
      "execution_count": null,
      "outputs": []
    },
    {
      "cell_type": "markdown",
      "metadata": {
        "id": "w1ERX-6cvCqd"
      },
      "source": [
        "   8.write a program to create a stack and perform various operation on it."
      ]
    },
    {
      "cell_type": "code",
      "metadata": {
        "id": "tb33XnsAvFxV"
      },
      "source": [
        " \n",
        " class Stack:\n",
        "    def _init_(self):\n",
        "        self.items = []\n",
        " \n",
        "    def is_empty(self):\n",
        "        return self.items == []\n",
        " \n",
        "    def push(self, data):\n",
        "        self.items.append(data)\n",
        " \n",
        "    def pop(self):\n",
        "        return self.items.pop()\n",
        " \n",
        " \n",
        "s = Stack()\n",
        "while True:\n",
        "    print('push <value>')\n",
        "    print('pop')\n",
        "    print('quit')\n",
        "    do = input('perform operation').split()\n",
        " \n",
        "    operation = do[0].strip().lower()\n",
        "    if operation == 'push':\n",
        "        s.push(int(do[1]))\n",
        "    elif operation == 'pop':\n",
        "        if s.is_empty():\n",
        "            print('Stack is empty.')\n",
        "        else:\n",
        "            print('Popped value: ', s.pop())\n",
        "    elif operation == 'quit':\n",
        "        break"
      ],
      "execution_count": null,
      "outputs": []
    },
    {
      "cell_type": "markdown",
      "metadata": {
        "id": "XMV806TQvILK"
      },
      "source": [
        "   9.write a program to convert the inflix expression into postfix form."
      ]
    },
    {
      "cell_type": "code",
      "metadata": {
        "id": "6z5XYXq-vKmB"
      },
      "source": [
        " \n",
        "class infix_to_postfix:\n",
        "    precedence={'^':5,'*':4,'/':4,'+':3,'-':3,'(':2,')':1}\n",
        "    def _init_(self):\n",
        "        self.items=[]\n",
        "        self.size=-1\n",
        "    def push(self,value):\n",
        "        self.items.append(value)\n",
        "        self.size+=1\n",
        "    def pop(self):\n",
        "        if self.isempty():\n",
        "            return 0\n",
        "        else:\n",
        "            self.size-=1\n",
        "            return self.items.pop()\n",
        "    def isempty(self):\n",
        "        if(self.size==-1):\n",
        "            return True\n",
        "        else:\n",
        "            return False\n",
        "    def seek(self):\n",
        "        if self.isempty():\n",
        "            return false\n",
        "        else:\n",
        "            return self.items[self.size]\n",
        "    def isOperand(self,i):\n",
        "        if i in 'ABCDEFGHIJKLMNOPQRSTUVWXYZ':\n",
        "            return True\n",
        "        else:\n",
        "            return False\n",
        "    def infixtopostfix (self,expr):\n",
        "        postfix=\"\"\n",
        "        print('postfix expression after every iteration is:')\n",
        "        for i in expr:\n",
        "            if(len(expr)%2==0):\n",
        "                print(\"Incorrect infix expr\")\n",
        "                return False\n",
        "            elif(self.isOperand(i)):\n",
        "                postfix +=i\n",
        "            elif(i in '+-*/^'):\n",
        "                while(len(self.items)and self.precedence[i]<=self.precedence[self.seek()]):\n",
        "                    postfix+=self.pop()\n",
        "                self.push(i)\n",
        "            elif i is '(':\n",
        "                self.push(i)\n",
        "            elif i is ')':\n",
        "                o=self.pop()\n",
        "                while o!='(':\n",
        "                    postfix +=o\n",
        "                    o=self.pop()\n",
        "            print(postfix)\n",
        "                #end of for\n",
        "        while len(self.items):\n",
        "            if(self.seek()=='('):\n",
        "                self.pop()\n",
        "            else:\n",
        "                postfix+=self.pop()\n",
        "        return postfix\n",
        "s=infix_to_postfix()\n",
        "expr=input('enter the expression ')\n",
        "result=s.infixtopostfix(expr)\n",
        "if (result!=False):\n",
        "    print(\"the postfix expr of :\",expr,\"is\",result)"
      ],
      "execution_count": null,
      "outputs": []
    },
    {
      "cell_type": "markdown",
      "metadata": {
        "id": "L3pEZuXqvNT-"
      },
      "source": [
        "  10.write a program to create a queue and perform various operations on it."
      ]
    },
    {
      "cell_type": "code",
      "metadata": {
        "id": "RXC-ui4svQI9"
      },
      "source": [
        " \n",
        "class Node:\n",
        "    def _init_(self, element, next):\n",
        "        self.element = element\n",
        "        self.next = next\n",
        " \n",
        "class QueuesLinked:\n",
        "    def _init_(self):\n",
        "        self.front = None\n",
        "        self.rear = None\n",
        "        self.size = 0\n",
        " \n",
        "    def _len_(self):\n",
        "        return self.size\n",
        " \n",
        "    def isempty(self):\n",
        "        return self.size == 0\n",
        " \n",
        "    def enqueue(self, e):\n",
        "        newest = Node(e, None)\n",
        "        if self.isempty():\n",
        "            self.front = newest\n",
        "        else:\n",
        "            self.rear.next = newest\n",
        "        self.rear = newest\n",
        "        self.size += 1\n",
        " \n",
        "    def dequeue(self):\n",
        "        if self.isempty():\n",
        "            print('Queue is empty')\n",
        "            return\n",
        "        e = self.front.element\n",
        "        self.front = self.front.next\n",
        "        self.size -= 1\n",
        "        if self.isempty():\n",
        "            self.rear = None\n",
        "        return e\n",
        " \n",
        "    def first(self):\n",
        "        if self.isempty():\n",
        "            print('Queue is empty')\n",
        "            return\n",
        "        return self.front.element\n",
        " \n",
        "    def display(self):\n",
        "        p = self.front\n",
        "        while p:\n",
        "            print(p.element,end=' <-- ')\n",
        "            p = p.next\n",
        "        print()\n",
        " \n",
        " \n",
        "Q = QueuesLinked()\n",
        "Q.enqueue(5)\n",
        "Q.enqueue(3)\n",
        "print('Queue:')\n",
        "Q.display()\n",
        "print('Queue Length:', len(Q))\n",
        "ele = Q.dequeue()\n",
        "print('Queue:')\n",
        "Q.display()\n",
        "print('Queue Length:', len(Q))\n",
        "print('Removed Element:',ele)\n",
        "print('Is Queue Empty:',Q.isempty())\n",
        "Q.enqueue(7)\n",
        "print('Queue:')\n",
        "Q.display()\n",
        "print('Queue Length:', len(Q))\n",
        "Q.enqueue(12)\n",
        "print('Queue:')\n",
        "Q.display()\n",
        "print('Queue Length:', len(Q))\n",
        "ele = Q.dequeue()\n",
        "print('Queue:')\n",
        "Q.display()\n",
        "print('Queue Length:', len(Q))\n",
        "print('Removed Element:',ele)\n",
        "print('First Element:',Q.first())"
      ],
      "execution_count": null,
      "outputs": []
    },
    {
      "cell_type": "markdown",
      "metadata": {
        "id": "NAHRykmrvTBt"
      },
      "source": [
        "  11.write a program to create a binary tree and perform various travarsals."
      ]
    },
    {
      "cell_type": "code",
      "metadata": {
        "id": "0QPSVfj0vV92"
      },
      "source": [
        " \n",
        " \n",
        "class Node:\n",
        "    def _init_(self,data):\n",
        "        self.left = None\n",
        "        self.right = None\n",
        "        self.data = data \n",
        " \n",
        "#To insert a new node\n",
        "    def insert(self,child,direction):\n",
        "        if direction == \"right\":\n",
        "            self.right = child \n",
        "        elif direction == \"left\":\n",
        "            self.left = child \n",
        " \n",
        " \n",
        "    def PrintTree(self):\n",
        "        if self.left:\n",
        "            self.left.PrintTree()\n",
        "        if self.right:\n",
        "            self.right.PrintTree()\n",
        "        print(self.data)\n",
        " \n",
        "#Use the insert method to add nodes \n",
        "A = Node(\"A\")\n",
        "B = Node(\"B\")\n",
        "C = Node(\"C\")\n",
        "D = Node(\"D\")\n",
        "E = Node(\"E\")\n",
        "F = Node(\"F\")\n",
        "A.insert(B,\"left\")\n",
        "B.insert(C,\"right\")\n",
        "C.insert(D,\"left\")\n",
        "A.insert(E,\"right\")\n",
        "E.insert(F,\"right\")\n",
        "A.PrintTree()"
      ],
      "execution_count": null,
      "outputs": []
    },
    {
      "cell_type": "markdown",
      "metadata": {
        "id": "G00XbQYgvZSH"
      },
      "source": [
        "  12.write a program to create a binary search tree and perform search operations."
      ]
    },
    {
      "cell_type": "code",
      "metadata": {
        "id": "lnX6cInGvbtg"
      },
      "source": [
        " \n",
        " \n",
        "class BST():\n",
        "  def __init__(self,data):\n",
        "    self.data=data\n",
        "    self.left=None\n",
        "    self.right=None\n",
        " \n",
        "  \n",
        "  def addchild(self,data):\n",
        "    if data==self.data:\n",
        "      return\n",
        "    \n",
        "    if data<self.data:\n",
        "      if self.left:\n",
        "        self.left.addchild(data)\n",
        "      else:\n",
        "        self.left=BST(data)\n",
        " \n",
        "    else:\n",
        "      if self.right:\n",
        "        self.right.addchild(data)\n",
        "      else:\n",
        "        self.right=BST(data)\n",
        " \n",
        " \n",
        "  def inorder(self):\n",
        "    elements=[]\n",
        "    if self.left:\n",
        "      elements+=self.left.inorder()\n",
        "    if self.data:\n",
        "      elements.append(self.data)\n",
        "    if self.right:\n",
        "      elements+=self.right.inorder()\n",
        "    return elements\n",
        " \n",
        " \n",
        "  def preorder(self):\n",
        "    elements=[]\n",
        "    if self.data:\n",
        "      elements.append(self.data)\n",
        "    if self.left:\n",
        "      elements+=self.left.inorder()\n",
        "    if self.right:\n",
        "      elements+=self.right.inorder()\n",
        "    return elements\n",
        " \n",
        "  \n",
        "  def postorder(self):\n",
        "    elements=[]\n",
        "    if self.left:\n",
        "      elements+=self.left.inorder()\n",
        "    if self.right:\n",
        "      elements+=self.right.inorder()\n",
        "    if self.data:\n",
        "      elements.append(self.data)\n",
        "    return elements\n",
        " \n",
        "    \n",
        "  def search(self,val):\n",
        "    if val==self.data:\n",
        "      return True\n",
        "    if val<self.data:\n",
        "      if self.left:\n",
        "        val=self.left.search(val)\n",
        "      else:\n",
        "        return False\n",
        "    else: \n",
        "      if self.right: \n",
        "        val=self.right.search(val)\n",
        "      else:\n",
        "        return False\n",
        "    return val\n",
        " \n",
        "def build_tree(elements):\n",
        "  root=BST(elements[0])\n",
        "  for i in range(1,len(elements)):\n",
        "    root.addchild(elements[i])\n",
        "  return root\n",
        " \n",
        "if _name==\"main_\":\n",
        "  numbers=[17, 4, 1, 20, 9, 23, 18, 34]\n",
        "  numbers_tree=build_tree(numbers)\n",
        "  print(numbers_tree.inorder())\n",
        "  print(numbers_tree.preorder())\n",
        "  print(numbers_tree.postorder())\n",
        "  \n",
        "  print(numbers_tree.search(4))\n",
        "  print(numbers_tree.search(10)"
      ],
      "execution_count": null,
      "outputs": []
    }
  ]
}